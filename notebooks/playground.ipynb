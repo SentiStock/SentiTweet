{
 "cells": [
  {
   "cell_type": "code",
   "execution_count": 1,
   "id": "ed4ad41b",
   "metadata": {},
   "outputs": [
    {
     "name": "stderr",
     "output_type": "stream",
     "text": [
      "[nltk_data] Downloading package stopwords to /root/nltk_data...\n",
      "[nltk_data]   Package stopwords is already up-to-date!\n"
     ]
    }
   ],
   "source": [
    "from django_for_jupyter import init_django\n",
    "init_django(\"sentitweet\")"
   ]
  },
  {
   "cell_type": "code",
   "execution_count": 2,
   "id": "3f045410",
   "metadata": {},
   "outputs": [
    {
     "data": {
      "text/plain": [
       "<QuerySet [<HashTag: #news>, <HashTag: #TurnOffTheAlarm>, <HashTag: #RedSeaIFF22>, <HashTag: #Mac>, <HashTag: #purple>, <HashTag: #Apple’s>, <HashTag: #SpatialAudio>, <HashTag: #investment>, <HashTag: #gold>, <HashTag: #programming>, <HashTag: #software>, <HashTag: #wallets>, <HashTag: #deals>, <HashTag: #apps,>, <HashTag: #sologadgets>, <HashTag: #ERC20>, <HashTag: #visa>, <HashTag: #TheRightTime.>, <HashTag: #AppStore>, <HashTag: #yt>, '...(remaining elements truncated)...']>"
      ]
     },
     "execution_count": 2,
     "metadata": {},
     "output_type": "execute_result"
    }
   ],
   "source": [
    "from tweet.models import HashTag\n",
    "\n",
    "HashTag.objects.all()"
   ]
  },
  {
   "cell_type": "code",
   "execution_count": 74,
   "id": "a5f0fcba",
   "metadata": {},
   "outputs": [],
   "source": [
    "from tweet.models import Contributor"
   ]
  },
  {
   "cell_type": "code",
   "execution_count": 75,
   "id": "a885fd58",
   "metadata": {},
   "outputs": [
    {
     "data": {
      "text/plain": [
       "<QuerySet [<Contributor: newuser>, <Contributor: new2user>, <Contributor: TurboLukas>, <Contributor: kubaaman771@gmail.com>, <Contributor: kaspar>]>"
      ]
     },
     "execution_count": 75,
     "metadata": {},
     "output_type": "execute_result"
    }
   ],
   "source": [
    "Contributor.objects.all()"
   ]
  },
  {
   "cell_type": "code",
   "execution_count": 76,
   "id": "845dbc06",
   "metadata": {},
   "outputs": [],
   "source": [
    "from stock.models import Company"
   ]
  },
  {
   "cell_type": "code",
   "execution_count": 81,
   "id": "8be22149",
   "metadata": {},
   "outputs": [
    {
     "data": {
      "text/plain": [
       "<QuerySet [<Tweet: 1600173023297798153>, <Tweet: 1600269228191645698>, <Tweet: 1600550906092830733>, <Tweet: 1598729752499687425>, <Tweet: 1599788965506449408>, <Tweet: 1600244889618243584>, <Tweet: 1600354722460086272>, <Tweet: 1599194860531372032>, <Tweet: 1600559796855263232>, <Tweet: 1598706532329234432>, <Tweet: 1599074342792331264>, <Tweet: 1599147374592524288>, <Tweet: 1598854105640087554>, <Tweet: 1600202925153845282>, <Tweet: 1599849345637298176>, <Tweet: 1598226036046835712>, <Tweet: 1598836271627276288>, <Tweet: 1600562222446432256>, <Tweet: 1600480261690609666>, <Tweet: 1600440714378194944>, '...(remaining elements truncated)...']>"
      ]
     },
     "execution_count": 81,
     "metadata": {},
     "output_type": "execute_result"
    }
   ],
   "source": [
    "Company.objects.filter(symbol=\"AAPL\").first().tweets.all()"
   ]
  },
  {
   "cell_type": "code",
   "execution_count": 52,
   "id": "0a3b18a7",
   "metadata": {},
   "outputs": [],
   "source": [
    "from datetime import datetime"
   ]
  },
  {
   "cell_type": "code",
   "execution_count": 38,
   "id": "2c47ac07",
   "metadata": {},
   "outputs": [],
   "source": [
    "from django.utils import timezone"
   ]
  },
  {
   "cell_type": "code",
   "execution_count": 40,
   "id": "d5f9c2fc",
   "metadata": {},
   "outputs": [
    {
     "data": {
      "text/plain": [
       "datetime.datetime(2022, 12, 10, 19, 19, 25, 575467, tzinfo=<UTC>)"
      ]
     },
     "execution_count": 40,
     "metadata": {},
     "output_type": "execute_result"
    }
   ],
   "source": [
    "timezone.now()"
   ]
  },
  {
   "cell_type": "code",
   "execution_count": null,
   "id": "8c82ed49",
   "metadata": {},
   "outputs": [],
   "source": [
    "tweets = Tweet.obje"
   ]
  },
  {
   "cell_type": "code",
   "execution_count": 57,
   "id": "4ea571d9",
   "metadata": {},
   "outputs": [
    {
     "data": {
      "text/plain": [
       "<QuerySet [<Tweet: 1598226036046835712>, <Tweet: 1598215400142970880>, <Tweet: 1598354825959333891>, <Tweet: 1598216647356997632>, <Tweet: 1598171728131559424>, <Tweet: 1598280761844826113>, <Tweet: 1598127176716800000>, <Tweet: 1598284780248125441>, <Tweet: 1598320014758649857>, <Tweet: 1598293399920332800>, <Tweet: 1598130314240327680>, <Tweet: 1598436964742713359>, <Tweet: 1598321475442061315>, <Tweet: 1598289755535724545>, <Tweet: 1598363946997932032>, <Tweet: 1598238286115381251>, <Tweet: 1598152912848683008>, <Tweet: 1598346199748296704>, <Tweet: 1598262594246422528>, <Tweet: 1598104885974601729>, '...(remaining elements truncated)...']>"
      ]
     },
     "execution_count": 57,
     "metadata": {},
     "output_type": "execute_result"
    }
   ],
   "source": [
    "Tweet.objects.filter(post_date__gte=timezone.make_aware(datetime(2022, 12, 1)),\n",
    "                    post_date__lte=timezone.make_aware(datetime(2022, 12, 2)))"
   ]
  },
  {
   "cell_type": "code",
   "execution_count": 58,
   "id": "d1f9f9d6",
   "metadata": {},
   "outputs": [
    {
     "data": {
      "text/plain": [
       "<QuerySet [<Tweet: 1598743817292632064>, <Tweet: 1598477429978419208>, <Tweet: 1598738774086893569>, <Tweet: 1598736688125284363>, <Tweet: 1598630499400011777>, <Tweet: 1598482603103092737>, <Tweet: 1598553415730208769>, <Tweet: 1598793003379957763>, <Tweet: 1598741861107003392>, <Tweet: 1598542780342669315>, <Tweet: 1598768971058188291>, <Tweet: 1598474406216740865>, <Tweet: 1598590260505624584>, <Tweet: 1598690762488795136>, <Tweet: 1598736695616311325>, <Tweet: 1598641349066391553>, <Tweet: 1598563873644507136>, <Tweet: 1598784067343974401>, <Tweet: 1598510701978521600>, <Tweet: 1598635135959982080>, '...(remaining elements truncated)...']>"
      ]
     },
     "execution_count": 58,
     "metadata": {},
     "output_type": "execute_result"
    }
   ],
   "source": [
    "Tweet.objects.filter(post_date__gte=timezone.make_aware(datetime(2022, 12, 2)),\n",
    "                    post_date__lte=timezone.make_aware(datetime(2022, 12, 3)))"
   ]
  },
  {
   "cell_type": "code",
   "execution_count": 45,
   "id": "82c1ee0a",
   "metadata": {},
   "outputs": [
    {
     "data": {
      "text/plain": [
       "datetime.datetime(2022, 11, 30, 21, 33, 17, tzinfo=<UTC>)"
      ]
     },
     "execution_count": 45,
     "metadata": {},
     "output_type": "execute_result"
    }
   ],
   "source": [
    "Tweet.objects.all().first().post_date\n"
   ]
  },
  {
   "cell_type": "code",
   "execution_count": 4,
   "id": "d85b4163",
   "metadata": {},
   "outputs": [],
   "source": [
    "from django.db.models import Avg"
   ]
  },
  {
   "cell_type": "code",
   "execution_count": 5,
   "id": "0a5e7e61",
   "metadata": {},
   "outputs": [
    {
     "data": {
      "text/plain": [
       "{'sentiment_compound__avg': Decimal('0.17166363636363636364')}"
      ]
     },
     "execution_count": 5,
     "metadata": {},
     "output_type": "execute_result"
    }
   ],
   "source": [
    "Tweet.objects.filter(like_number__gte=100).aggregate(Avg('sentiment_compound'))"
   ]
  },
  {
   "cell_type": "code",
   "execution_count": 82,
   "id": "df98c64c",
   "metadata": {},
   "outputs": [],
   "source": [
    "df = Tweet.as_dataframe(Company.objects.filter(symbol=\"AAPL\").first().tweets.all())"
   ]
  },
  {
   "cell_type": "code",
   "execution_count": 70,
   "id": "4fda346c",
   "metadata": {},
   "outputs": [],
   "source": [
    "df = Tweet.as_dataframe(Tweet.objects.filter(like_number__gte=10))"
   ]
  },
  {
   "cell_type": "code",
   "execution_count": 59,
   "id": "be122ffb",
   "metadata": {},
   "outputs": [],
   "source": [
    "df =  Tweet.as_dataframe(Tweet.objects.filter(like_number__gte=10000))\n"
   ]
  },
  {
   "cell_type": "code",
   "execution_count": 86,
   "id": "43774be5",
   "metadata": {},
   "outputs": [],
   "source": [
    "df2 = df.groupby([df['post_date'].dt.date]).count()"
   ]
  },
  {
   "cell_type": "code",
   "execution_count": 84,
   "id": "24161b3a",
   "metadata": {},
   "outputs": [
    {
     "data": {
      "text/html": [
       "<div>\n",
       "<style scoped>\n",
       "    .dataframe tbody tr th:only-of-type {\n",
       "        vertical-align: middle;\n",
       "    }\n",
       "\n",
       "    .dataframe tbody tr th {\n",
       "        vertical-align: top;\n",
       "    }\n",
       "\n",
       "    .dataframe thead th {\n",
       "        text-align: right;\n",
       "    }\n",
       "</style>\n",
       "<table border=\"1\" class=\"dataframe\">\n",
       "  <thead>\n",
       "    <tr style=\"text-align: right;\">\n",
       "      <th></th>\n",
       "      <th>id</th>\n",
       "      <th>user</th>\n",
       "      <th>post_date</th>\n",
       "      <th>source</th>\n",
       "      <th>text</th>\n",
       "      <th>cleaned_text</th>\n",
       "      <th>comment_number</th>\n",
       "      <th>retweet_number</th>\n",
       "      <th>like_number</th>\n",
       "      <th>sentiment_positive</th>\n",
       "      <th>sentiment_neutral</th>\n",
       "      <th>sentiment_negative</th>\n",
       "      <th>sentiment_uncertain</th>\n",
       "      <th>sentiment_compound</th>\n",
       "      <th>companies</th>\n",
       "    </tr>\n",
       "    <tr>\n",
       "      <th>post_date</th>\n",
       "      <th></th>\n",
       "      <th></th>\n",
       "      <th></th>\n",
       "      <th></th>\n",
       "      <th></th>\n",
       "      <th></th>\n",
       "      <th></th>\n",
       "      <th></th>\n",
       "      <th></th>\n",
       "      <th></th>\n",
       "      <th></th>\n",
       "      <th></th>\n",
       "      <th></th>\n",
       "      <th></th>\n",
       "      <th></th>\n",
       "    </tr>\n",
       "  </thead>\n",
       "  <tbody>\n",
       "    <tr>\n",
       "      <th>2022-11-30</th>\n",
       "      <td>1</td>\n",
       "      <td>1</td>\n",
       "      <td>1</td>\n",
       "      <td>1</td>\n",
       "      <td>1</td>\n",
       "      <td>1</td>\n",
       "      <td>1</td>\n",
       "      <td>1</td>\n",
       "      <td>1</td>\n",
       "      <td>0</td>\n",
       "      <td>0</td>\n",
       "      <td>0</td>\n",
       "      <td>0</td>\n",
       "      <td>0</td>\n",
       "      <td>1</td>\n",
       "    </tr>\n",
       "    <tr>\n",
       "      <th>2022-12-01</th>\n",
       "      <td>35</td>\n",
       "      <td>35</td>\n",
       "      <td>35</td>\n",
       "      <td>33</td>\n",
       "      <td>35</td>\n",
       "      <td>35</td>\n",
       "      <td>35</td>\n",
       "      <td>35</td>\n",
       "      <td>35</td>\n",
       "      <td>6</td>\n",
       "      <td>6</td>\n",
       "      <td>6</td>\n",
       "      <td>6</td>\n",
       "      <td>6</td>\n",
       "      <td>35</td>\n",
       "    </tr>\n",
       "    <tr>\n",
       "      <th>2022-12-02</th>\n",
       "      <td>32</td>\n",
       "      <td>32</td>\n",
       "      <td>32</td>\n",
       "      <td>1</td>\n",
       "      <td>32</td>\n",
       "      <td>32</td>\n",
       "      <td>32</td>\n",
       "      <td>32</td>\n",
       "      <td>32</td>\n",
       "      <td>12</td>\n",
       "      <td>12</td>\n",
       "      <td>12</td>\n",
       "      <td>12</td>\n",
       "      <td>12</td>\n",
       "      <td>32</td>\n",
       "    </tr>\n",
       "    <tr>\n",
       "      <th>2022-12-03</th>\n",
       "      <td>32</td>\n",
       "      <td>32</td>\n",
       "      <td>32</td>\n",
       "      <td>4</td>\n",
       "      <td>32</td>\n",
       "      <td>32</td>\n",
       "      <td>32</td>\n",
       "      <td>32</td>\n",
       "      <td>32</td>\n",
       "      <td>5</td>\n",
       "      <td>5</td>\n",
       "      <td>5</td>\n",
       "      <td>5</td>\n",
       "      <td>5</td>\n",
       "      <td>32</td>\n",
       "    </tr>\n",
       "    <tr>\n",
       "      <th>2022-12-04</th>\n",
       "      <td>28</td>\n",
       "      <td>28</td>\n",
       "      <td>28</td>\n",
       "      <td>3</td>\n",
       "      <td>28</td>\n",
       "      <td>28</td>\n",
       "      <td>28</td>\n",
       "      <td>28</td>\n",
       "      <td>28</td>\n",
       "      <td>4</td>\n",
       "      <td>4</td>\n",
       "      <td>4</td>\n",
       "      <td>4</td>\n",
       "      <td>4</td>\n",
       "      <td>28</td>\n",
       "    </tr>\n",
       "    <tr>\n",
       "      <th>2022-12-05</th>\n",
       "      <td>35</td>\n",
       "      <td>35</td>\n",
       "      <td>35</td>\n",
       "      <td>8</td>\n",
       "      <td>35</td>\n",
       "      <td>35</td>\n",
       "      <td>35</td>\n",
       "      <td>35</td>\n",
       "      <td>35</td>\n",
       "      <td>9</td>\n",
       "      <td>9</td>\n",
       "      <td>9</td>\n",
       "      <td>9</td>\n",
       "      <td>9</td>\n",
       "      <td>35</td>\n",
       "    </tr>\n",
       "    <tr>\n",
       "      <th>2022-12-06</th>\n",
       "      <td>75</td>\n",
       "      <td>75</td>\n",
       "      <td>75</td>\n",
       "      <td>22</td>\n",
       "      <td>75</td>\n",
       "      <td>75</td>\n",
       "      <td>75</td>\n",
       "      <td>75</td>\n",
       "      <td>75</td>\n",
       "      <td>15</td>\n",
       "      <td>15</td>\n",
       "      <td>15</td>\n",
       "      <td>15</td>\n",
       "      <td>15</td>\n",
       "      <td>75</td>\n",
       "    </tr>\n",
       "    <tr>\n",
       "      <th>2022-12-07</th>\n",
       "      <td>119</td>\n",
       "      <td>119</td>\n",
       "      <td>119</td>\n",
       "      <td>40</td>\n",
       "      <td>119</td>\n",
       "      <td>119</td>\n",
       "      <td>119</td>\n",
       "      <td>119</td>\n",
       "      <td>119</td>\n",
       "      <td>19</td>\n",
       "      <td>19</td>\n",
       "      <td>19</td>\n",
       "      <td>19</td>\n",
       "      <td>19</td>\n",
       "      <td>119</td>\n",
       "    </tr>\n",
       "    <tr>\n",
       "      <th>2022-12-08</th>\n",
       "      <td>142</td>\n",
       "      <td>142</td>\n",
       "      <td>142</td>\n",
       "      <td>66</td>\n",
       "      <td>142</td>\n",
       "      <td>142</td>\n",
       "      <td>142</td>\n",
       "      <td>142</td>\n",
       "      <td>142</td>\n",
       "      <td>11</td>\n",
       "      <td>11</td>\n",
       "      <td>11</td>\n",
       "      <td>11</td>\n",
       "      <td>11</td>\n",
       "      <td>142</td>\n",
       "    </tr>\n",
       "    <tr>\n",
       "      <th>2022-12-09</th>\n",
       "      <td>42</td>\n",
       "      <td>42</td>\n",
       "      <td>42</td>\n",
       "      <td>0</td>\n",
       "      <td>42</td>\n",
       "      <td>42</td>\n",
       "      <td>42</td>\n",
       "      <td>42</td>\n",
       "      <td>42</td>\n",
       "      <td>2</td>\n",
       "      <td>2</td>\n",
       "      <td>2</td>\n",
       "      <td>2</td>\n",
       "      <td>2</td>\n",
       "      <td>42</td>\n",
       "    </tr>\n",
       "  </tbody>\n",
       "</table>\n",
       "</div>"
      ],
      "text/plain": [
       "             id  user  post_date  source  text  cleaned_text  comment_number  \\\n",
       "post_date                                                                      \n",
       "2022-11-30    1     1          1       1     1             1               1   \n",
       "2022-12-01   35    35         35      33    35            35              35   \n",
       "2022-12-02   32    32         32       1    32            32              32   \n",
       "2022-12-03   32    32         32       4    32            32              32   \n",
       "2022-12-04   28    28         28       3    28            28              28   \n",
       "2022-12-05   35    35         35       8    35            35              35   \n",
       "2022-12-06   75    75         75      22    75            75              75   \n",
       "2022-12-07  119   119        119      40   119           119             119   \n",
       "2022-12-08  142   142        142      66   142           142             142   \n",
       "2022-12-09   42    42         42       0    42            42              42   \n",
       "\n",
       "            retweet_number  like_number  sentiment_positive  \\\n",
       "post_date                                                     \n",
       "2022-11-30               1            1                   0   \n",
       "2022-12-01              35           35                   6   \n",
       "2022-12-02              32           32                  12   \n",
       "2022-12-03              32           32                   5   \n",
       "2022-12-04              28           28                   4   \n",
       "2022-12-05              35           35                   9   \n",
       "2022-12-06              75           75                  15   \n",
       "2022-12-07             119          119                  19   \n",
       "2022-12-08             142          142                  11   \n",
       "2022-12-09              42           42                   2   \n",
       "\n",
       "            sentiment_neutral  sentiment_negative  sentiment_uncertain  \\\n",
       "post_date                                                                \n",
       "2022-11-30                  0                   0                    0   \n",
       "2022-12-01                  6                   6                    6   \n",
       "2022-12-02                 12                  12                   12   \n",
       "2022-12-03                  5                   5                    5   \n",
       "2022-12-04                  4                   4                    4   \n",
       "2022-12-05                  9                   9                    9   \n",
       "2022-12-06                 15                  15                   15   \n",
       "2022-12-07                 19                  19                   19   \n",
       "2022-12-08                 11                  11                   11   \n",
       "2022-12-09                  2                   2                    2   \n",
       "\n",
       "            sentiment_compound  companies  \n",
       "post_date                                  \n",
       "2022-11-30                   0          1  \n",
       "2022-12-01                   6         35  \n",
       "2022-12-02                  12         32  \n",
       "2022-12-03                   5         32  \n",
       "2022-12-04                   4         28  \n",
       "2022-12-05                   9         35  \n",
       "2022-12-06                  15         75  \n",
       "2022-12-07                  19        119  \n",
       "2022-12-08                  11        142  \n",
       "2022-12-09                   2         42  "
      ]
     },
     "execution_count": 84,
     "metadata": {},
     "output_type": "execute_result"
    }
   ],
   "source": [
    "df2"
   ]
  },
  {
   "cell_type": "code",
   "execution_count": null,
   "id": "61ae06a8",
   "metadata": {},
   "outputs": [],
   "source": [
    "fig = px.bar(df2, y=\"Number of Tweets\", title='Total number of Tweets on each day')\n",
    "fig.show()"
   ]
  },
  {
   "cell_type": "code",
   "execution_count": 60,
   "id": "f9ca58b8",
   "metadata": {},
   "outputs": [
    {
     "data": {
      "text/html": [
       "<div>\n",
       "<style scoped>\n",
       "    .dataframe tbody tr th:only-of-type {\n",
       "        vertical-align: middle;\n",
       "    }\n",
       "\n",
       "    .dataframe tbody tr th {\n",
       "        vertical-align: top;\n",
       "    }\n",
       "\n",
       "    .dataframe thead th {\n",
       "        text-align: right;\n",
       "    }\n",
       "</style>\n",
       "<table border=\"1\" class=\"dataframe\">\n",
       "  <thead>\n",
       "    <tr style=\"text-align: right;\">\n",
       "      <th></th>\n",
       "      <th>id</th>\n",
       "      <th>user</th>\n",
       "      <th>post_date</th>\n",
       "      <th>source</th>\n",
       "      <th>text</th>\n",
       "      <th>cleaned_text</th>\n",
       "      <th>comment_number</th>\n",
       "      <th>retweet_number</th>\n",
       "      <th>like_number</th>\n",
       "      <th>sentiment_positive</th>\n",
       "      <th>sentiment_neutral</th>\n",
       "      <th>sentiment_negative</th>\n",
       "      <th>sentiment_uncertain</th>\n",
       "      <th>sentiment_compound</th>\n",
       "      <th>companies</th>\n",
       "    </tr>\n",
       "  </thead>\n",
       "  <tbody>\n",
       "    <tr>\n",
       "      <th>0</th>\n",
       "      <td>1599602276603084800</td>\n",
       "      <td>1360496684741107713</td>\n",
       "      <td>2022-12-05 03:11:16+00:00</td>\n",
       "      <td>None</td>\n",
       "      <td>mysta was pregnant a whole month and came back...</td>\n",
       "      <td>mysta pregnant whole month came back new wave</td>\n",
       "      <td>47</td>\n",
       "      <td>1142</td>\n",
       "      <td>10532</td>\n",
       "      <td>0.1333</td>\n",
       "      <td>0.6733</td>\n",
       "      <td>0.1934</td>\n",
       "      <td>0.3267</td>\n",
       "      <td>-0.0209</td>\n",
       "      <td>stock.Company.None</td>\n",
       "    </tr>\n",
       "    <tr>\n",
       "      <th>1</th>\n",
       "      <td>1598542581557755904</td>\n",
       "      <td>14740219</td>\n",
       "      <td>2022-12-02 05:00:25+00:00</td>\n",
       "      <td>None</td>\n",
       "      <td>We finally have new music from #RM, don't mind...</td>\n",
       "      <td>final new music #rm mind us fan #indigo</td>\n",
       "      <td>107</td>\n",
       "      <td>14473</td>\n",
       "      <td>32774</td>\n",
       "      <td>0.9563</td>\n",
       "      <td>0.0424</td>\n",
       "      <td>0.0013</td>\n",
       "      <td>0.9576</td>\n",
       "      <td>0.6774</td>\n",
       "      <td>stock.Company.None</td>\n",
       "    </tr>\n",
       "    <tr>\n",
       "      <th>2</th>\n",
       "      <td>1598091043844501504</td>\n",
       "      <td>16573941</td>\n",
       "      <td>2022-11-30 23:06:10+00:00</td>\n",
       "      <td>Twitter Web App</td>\n",
       "      <td>Get your first look at some new characters fro...</td>\n",
       "      <td>get first look new charact season  alic border...</td>\n",
       "      <td>491</td>\n",
       "      <td>9134</td>\n",
       "      <td>42924</td>\n",
       "      <td>0.2022</td>\n",
       "      <td>0.7935</td>\n",
       "      <td>0.0043</td>\n",
       "      <td>0.2065</td>\n",
       "      <td>0.0609</td>\n",
       "      <td>stock.Company.None</td>\n",
       "    </tr>\n",
       "    <tr>\n",
       "      <th>3</th>\n",
       "      <td>1600180977556287488</td>\n",
       "      <td>900441761859948545</td>\n",
       "      <td>2022-12-06 17:30:49+00:00</td>\n",
       "      <td>None</td>\n",
       "      <td>New city, new identity, new crew. Let’s dig in...</td>\n",
       "      <td>new city new identity new crew let dig joe new...</td>\n",
       "      <td>244</td>\n",
       "      <td>2428</td>\n",
       "      <td>27881</td>\n",
       "      <td>0.3629</td>\n",
       "      <td>0.6290</td>\n",
       "      <td>0.0081</td>\n",
       "      <td>0.3710</td>\n",
       "      <td>0.1291</td>\n",
       "      <td>stock.Company.None</td>\n",
       "    </tr>\n",
       "    <tr>\n",
       "      <th>4</th>\n",
       "      <td>1600180772857577473</td>\n",
       "      <td>16573941</td>\n",
       "      <td>2022-12-06 17:30:00+00:00</td>\n",
       "      <td>None</td>\n",
       "      <td>New city. New name. Same Joe? \\n\\nHere’s your ...</td>\n",
       "      <td>new city new name joe here first look season</td>\n",
       "      <td>167</td>\n",
       "      <td>841</td>\n",
       "      <td>10004</td>\n",
       "      <td>0.2076</td>\n",
       "      <td>0.7837</td>\n",
       "      <td>0.0087</td>\n",
       "      <td>0.2163</td>\n",
       "      <td>0.0618</td>\n",
       "      <td>stock.Company.None</td>\n",
       "    </tr>\n",
       "    <tr>\n",
       "      <th>5</th>\n",
       "      <td>1599057806313025537</td>\n",
       "      <td>27493883</td>\n",
       "      <td>2022-12-03 15:07:44+00:00</td>\n",
       "      <td>None</td>\n",
       "      <td>Only three more days until Herschel Walker is ...</td>\n",
       "      <td>three day herschel walker sent back texa like ...</td>\n",
       "      <td>1860</td>\n",
       "      <td>1581</td>\n",
       "      <td>14895</td>\n",
       "      <td>0.6503</td>\n",
       "      <td>0.3411</td>\n",
       "      <td>0.0085</td>\n",
       "      <td>0.6588</td>\n",
       "      <td>0.3181</td>\n",
       "      <td>stock.Company.None</td>\n",
       "    </tr>\n",
       "    <tr>\n",
       "      <th>6</th>\n",
       "      <td>1599798276085010432</td>\n",
       "      <td>197208081</td>\n",
       "      <td>2022-12-05 16:10:06+00:00</td>\n",
       "      <td>None</td>\n",
       "      <td>\"babe new kit and joe pics just dropped\" https...</td>\n",
       "      <td>babe new kit joe pic dropped</td>\n",
       "      <td>45</td>\n",
       "      <td>1229</td>\n",
       "      <td>13597</td>\n",
       "      <td>0.0836</td>\n",
       "      <td>0.9018</td>\n",
       "      <td>0.0146</td>\n",
       "      <td>0.0982</td>\n",
       "      <td>0.0190</td>\n",
       "      <td>stock.Company.None</td>\n",
       "    </tr>\n",
       "    <tr>\n",
       "      <th>7</th>\n",
       "      <td>1598578353870901250</td>\n",
       "      <td>1531090934926290944</td>\n",
       "      <td>2022-12-02 07:22:34+00:00</td>\n",
       "      <td>None</td>\n",
       "      <td>If you haven’t heard, there’s a new Oscar-nomi...</td>\n",
       "      <td>havent heard there new oscarnomin palestinian ...</td>\n",
       "      <td>64</td>\n",
       "      <td>8477</td>\n",
       "      <td>29592</td>\n",
       "      <td>0.0300</td>\n",
       "      <td>0.4246</td>\n",
       "      <td>0.5454</td>\n",
       "      <td>0.5754</td>\n",
       "      <td>-0.2329</td>\n",
       "      <td>stock.Company.None</td>\n",
       "    </tr>\n",
       "    <tr>\n",
       "      <th>8</th>\n",
       "      <td>1599842837360672770</td>\n",
       "      <td>17469289</td>\n",
       "      <td>2022-12-05 19:07:10+00:00</td>\n",
       "      <td>None</td>\n",
       "      <td>Image of Harry and Meghan being stalked by pap...</td>\n",
       "      <td>imag harri meghan stalk paparazzi new netflix ...</td>\n",
       "      <td>1045</td>\n",
       "      <td>2175</td>\n",
       "      <td>12302</td>\n",
       "      <td>0.0310</td>\n",
       "      <td>0.9267</td>\n",
       "      <td>0.0422</td>\n",
       "      <td>0.0732</td>\n",
       "      <td>-0.0030</td>\n",
       "      <td>stock.Company.None</td>\n",
       "    </tr>\n",
       "    <tr>\n",
       "      <th>9</th>\n",
       "      <td>1598293027457740802</td>\n",
       "      <td>720033149288321024</td>\n",
       "      <td>2022-12-01 12:28:47+00:00</td>\n",
       "      <td>Twitter for Android</td>\n",
       "      <td>New movies on Netflix (thread) https://t.co/re...</td>\n",
       "      <td>new movi netflix thread</td>\n",
       "      <td>355</td>\n",
       "      <td>10944</td>\n",
       "      <td>74042</td>\n",
       "      <td>0.2202</td>\n",
       "      <td>0.7759</td>\n",
       "      <td>0.0039</td>\n",
       "      <td>0.2241</td>\n",
       "      <td>0.0677</td>\n",
       "      <td>stock.Company.None</td>\n",
       "    </tr>\n",
       "    <tr>\n",
       "      <th>10</th>\n",
       "      <td>1599086078811467777</td>\n",
       "      <td>780460754910732288</td>\n",
       "      <td>2022-12-03 17:00:05+00:00</td>\n",
       "      <td>None</td>\n",
       "      <td>'BULLET TRAIN' is now streaming on Netflix. \\n...</td>\n",
       "      <td>bullet train stream netflix see new movi got a...</td>\n",
       "      <td>444</td>\n",
       "      <td>2948</td>\n",
       "      <td>48530</td>\n",
       "      <td>0.4883</td>\n",
       "      <td>0.5090</td>\n",
       "      <td>0.0026</td>\n",
       "      <td>0.4909</td>\n",
       "      <td>0.2004</td>\n",
       "      <td>stock.Company.None</td>\n",
       "    </tr>\n",
       "    <tr>\n",
       "      <th>11</th>\n",
       "      <td>1600324216087248896</td>\n",
       "      <td>1452957328517439492</td>\n",
       "      <td>2022-12-07 03:00:00+00:00</td>\n",
       "      <td>None</td>\n",
       "      <td>\"Like That\" by @ATEEZofficial is a) the openin...</td>\n",
       "      <td>like that a open theme lookism b new favorit j...</td>\n",
       "      <td>200</td>\n",
       "      <td>6619</td>\n",
       "      <td>15185</td>\n",
       "      <td>0.9318</td>\n",
       "      <td>0.0670</td>\n",
       "      <td>0.0012</td>\n",
       "      <td>0.9330</td>\n",
       "      <td>0.6395</td>\n",
       "      <td>stock.Company.None</td>\n",
       "    </tr>\n",
       "    <tr>\n",
       "      <th>12</th>\n",
       "      <td>1599123106400174080</td>\n",
       "      <td>241227689</td>\n",
       "      <td>2022-12-03 19:27:13+00:00</td>\n",
       "      <td>None</td>\n",
       "      <td>A new view from across the #SpiderVerse coming...</td>\n",
       "      <td>new view across #spidervers come</td>\n",
       "      <td>58</td>\n",
       "      <td>2071</td>\n",
       "      <td>18359</td>\n",
       "      <td>0.2724</td>\n",
       "      <td>0.7236</td>\n",
       "      <td>0.0039</td>\n",
       "      <td>0.2763</td>\n",
       "      <td>0.0886</td>\n",
       "      <td>stock.Company.None</td>\n",
       "    </tr>\n",
       "    <tr>\n",
       "      <th>13</th>\n",
       "      <td>1599824974448979968</td>\n",
       "      <td>1499090498090328071</td>\n",
       "      <td>2022-12-05 17:56:11+00:00</td>\n",
       "      <td>None</td>\n",
       "      <td>Like if I can send you nudes? https://t.co/YZw...</td>\n",
       "      <td>like send nudes</td>\n",
       "      <td>236</td>\n",
       "      <td>1187</td>\n",
       "      <td>12604</td>\n",
       "      <td>0.0746</td>\n",
       "      <td>0.8996</td>\n",
       "      <td>0.0258</td>\n",
       "      <td>0.1004</td>\n",
       "      <td>0.0135</td>\n",
       "      <td>stock.Company.None</td>\n",
       "    </tr>\n",
       "    <tr>\n",
       "      <th>14</th>\n",
       "      <td>1599469691457896450</td>\n",
       "      <td>246939630</td>\n",
       "      <td>2022-12-04 18:24:25+00:00</td>\n",
       "      <td>None</td>\n",
       "      <td>NEW: Austin police shot and killed entrepreneu...</td>\n",
       "      <td>new austin polic shot kill entrepreneur rajan ...</td>\n",
       "      <td>807</td>\n",
       "      <td>4115</td>\n",
       "      <td>11571</td>\n",
       "      <td>0.0145</td>\n",
       "      <td>0.6001</td>\n",
       "      <td>0.3855</td>\n",
       "      <td>0.4000</td>\n",
       "      <td>-0.1391</td>\n",
       "      <td>stock.Company.None</td>\n",
       "    </tr>\n",
       "    <tr>\n",
       "      <th>15</th>\n",
       "      <td>1598716507273498634</td>\n",
       "      <td>44084633</td>\n",
       "      <td>2022-12-02 16:31:32+00:00</td>\n",
       "      <td>None</td>\n",
       "      <td>#Nayeon and @RolaWorLD in Tokyo for #LVxYayoiK...</td>\n",
       "      <td>#nayeon tokyo #lvxyayoikusama celebr gather di...</td>\n",
       "      <td>195</td>\n",
       "      <td>5528</td>\n",
       "      <td>28074</td>\n",
       "      <td>0.5037</td>\n",
       "      <td>0.4939</td>\n",
       "      <td>0.0024</td>\n",
       "      <td>0.5061</td>\n",
       "      <td>0.2102</td>\n",
       "      <td>stock.Company.None</td>\n",
       "    </tr>\n",
       "    <tr>\n",
       "      <th>16</th>\n",
       "      <td>1600868618358726656</td>\n",
       "      <td>780460754910732288</td>\n",
       "      <td>2022-12-08 15:03:15+00:00</td>\n",
       "      <td>None</td>\n",
       "      <td>A new series adaption of ‘THE DARK TOWER’ is i...</td>\n",
       "      <td>new seri adapt dark tower work amazon mike fla...</td>\n",
       "      <td>265</td>\n",
       "      <td>960</td>\n",
       "      <td>10765</td>\n",
       "      <td>0.1862</td>\n",
       "      <td>0.8104</td>\n",
       "      <td>0.0034</td>\n",
       "      <td>0.1896</td>\n",
       "      <td>0.0553</td>\n",
       "      <td>stock.Company.None</td>\n",
       "    </tr>\n",
       "    <tr>\n",
       "      <th>17</th>\n",
       "      <td>1600781866080301062</td>\n",
       "      <td>599325334</td>\n",
       "      <td>2022-12-08 09:18:32+00:00</td>\n",
       "      <td>None</td>\n",
       "      <td>Prince William had asked broadcasters not to r...</td>\n",
       "      <td>princ william ask broadcast replay footag moth...</td>\n",
       "      <td>1202</td>\n",
       "      <td>1493</td>\n",
       "      <td>15548</td>\n",
       "      <td>0.0206</td>\n",
       "      <td>0.8223</td>\n",
       "      <td>0.1571</td>\n",
       "      <td>0.1777</td>\n",
       "      <td>-0.0408</td>\n",
       "      <td>stock.Company.None</td>\n",
       "    </tr>\n",
       "    <tr>\n",
       "      <th>18</th>\n",
       "      <td>1600848976219029504</td>\n",
       "      <td>97411152</td>\n",
       "      <td>2022-12-08 13:45:12+00:00</td>\n",
       "      <td>None</td>\n",
       "      <td>Well I am watching that new @netflix doc #Harr...</td>\n",
       "      <td>well watch new doc #harryandmeghannetflix actu...</td>\n",
       "      <td>3509</td>\n",
       "      <td>920</td>\n",
       "      <td>14273</td>\n",
       "      <td>0.9573</td>\n",
       "      <td>0.0319</td>\n",
       "      <td>0.0108</td>\n",
       "      <td>0.9681</td>\n",
       "      <td>0.6806</td>\n",
       "      <td>stock.Company.None</td>\n",
       "    </tr>\n",
       "    <tr>\n",
       "      <th>19</th>\n",
       "      <td>1599886135568003072</td>\n",
       "      <td>25235151</td>\n",
       "      <td>2022-12-05 21:59:13+00:00</td>\n",
       "      <td>None</td>\n",
       "      <td>Image of Harry and Meghan being “stalked by pa...</td>\n",
       "      <td>imag harri meghan stalk paparazzi new netflix ...</td>\n",
       "      <td>896</td>\n",
       "      <td>2559</td>\n",
       "      <td>19064</td>\n",
       "      <td>0.0723</td>\n",
       "      <td>0.8746</td>\n",
       "      <td>0.0531</td>\n",
       "      <td>0.1254</td>\n",
       "      <td>0.0054</td>\n",
       "      <td>stock.Company.None</td>\n",
       "    </tr>\n",
       "    <tr>\n",
       "      <th>20</th>\n",
       "      <td>1599194860531372032</td>\n",
       "      <td>359425864</td>\n",
       "      <td>2022-12-04 00:12:21+00:00</td>\n",
       "      <td>None</td>\n",
       "      <td>New: Elon Musk just said Apple has “fully resu...</td>\n",
       "      <td>new elon musk said appl fulli resum advertis t...</td>\n",
       "      <td>887</td>\n",
       "      <td>2025</td>\n",
       "      <td>35805</td>\n",
       "      <td>0.7209</td>\n",
       "      <td>0.2764</td>\n",
       "      <td>0.0026</td>\n",
       "      <td>0.7235</td>\n",
       "      <td>0.3832</td>\n",
       "      <td>stock.Company.None</td>\n",
       "    </tr>\n",
       "    <tr>\n",
       "      <th>21</th>\n",
       "      <td>1600269228191645698</td>\n",
       "      <td>1636590253</td>\n",
       "      <td>2022-12-06 23:21:30+00:00</td>\n",
       "      <td>None</td>\n",
       "      <td>Apple silicon unlocks a new level of performan...</td>\n",
       "      <td>appl silicon unlock new level perform users so...</td>\n",
       "      <td>2421</td>\n",
       "      <td>4427</td>\n",
       "      <td>58631</td>\n",
       "      <td>0.9685</td>\n",
       "      <td>0.0300</td>\n",
       "      <td>0.0016</td>\n",
       "      <td>0.9701</td>\n",
       "      <td>0.6970</td>\n",
       "      <td>stock.Company.None</td>\n",
       "    </tr>\n",
       "  </tbody>\n",
       "</table>\n",
       "</div>"
      ],
      "text/plain": [
       "                     id                 user                 post_date  \\\n",
       "0   1599602276603084800  1360496684741107713 2022-12-05 03:11:16+00:00   \n",
       "1   1598542581557755904             14740219 2022-12-02 05:00:25+00:00   \n",
       "2   1598091043844501504             16573941 2022-11-30 23:06:10+00:00   \n",
       "3   1600180977556287488   900441761859948545 2022-12-06 17:30:49+00:00   \n",
       "4   1600180772857577473             16573941 2022-12-06 17:30:00+00:00   \n",
       "5   1599057806313025537             27493883 2022-12-03 15:07:44+00:00   \n",
       "6   1599798276085010432            197208081 2022-12-05 16:10:06+00:00   \n",
       "7   1598578353870901250  1531090934926290944 2022-12-02 07:22:34+00:00   \n",
       "8   1599842837360672770             17469289 2022-12-05 19:07:10+00:00   \n",
       "9   1598293027457740802   720033149288321024 2022-12-01 12:28:47+00:00   \n",
       "10  1599086078811467777   780460754910732288 2022-12-03 17:00:05+00:00   \n",
       "11  1600324216087248896  1452957328517439492 2022-12-07 03:00:00+00:00   \n",
       "12  1599123106400174080            241227689 2022-12-03 19:27:13+00:00   \n",
       "13  1599824974448979968  1499090498090328071 2022-12-05 17:56:11+00:00   \n",
       "14  1599469691457896450            246939630 2022-12-04 18:24:25+00:00   \n",
       "15  1598716507273498634             44084633 2022-12-02 16:31:32+00:00   \n",
       "16  1600868618358726656   780460754910732288 2022-12-08 15:03:15+00:00   \n",
       "17  1600781866080301062            599325334 2022-12-08 09:18:32+00:00   \n",
       "18  1600848976219029504             97411152 2022-12-08 13:45:12+00:00   \n",
       "19  1599886135568003072             25235151 2022-12-05 21:59:13+00:00   \n",
       "20  1599194860531372032            359425864 2022-12-04 00:12:21+00:00   \n",
       "21  1600269228191645698           1636590253 2022-12-06 23:21:30+00:00   \n",
       "\n",
       "                 source                                               text  \\\n",
       "0                  None  mysta was pregnant a whole month and came back...   \n",
       "1                  None  We finally have new music from #RM, don't mind...   \n",
       "2       Twitter Web App  Get your first look at some new characters fro...   \n",
       "3                  None  New city, new identity, new crew. Let’s dig in...   \n",
       "4                  None  New city. New name. Same Joe? \\n\\nHere’s your ...   \n",
       "5                  None  Only three more days until Herschel Walker is ...   \n",
       "6                  None  \"babe new kit and joe pics just dropped\" https...   \n",
       "7                  None  If you haven’t heard, there’s a new Oscar-nomi...   \n",
       "8                  None  Image of Harry and Meghan being stalked by pap...   \n",
       "9   Twitter for Android  New movies on Netflix (thread) https://t.co/re...   \n",
       "10                 None  'BULLET TRAIN' is now streaming on Netflix. \\n...   \n",
       "11                 None  \"Like That\" by @ATEEZofficial is a) the openin...   \n",
       "12                 None  A new view from across the #SpiderVerse coming...   \n",
       "13                 None  Like if I can send you nudes? https://t.co/YZw...   \n",
       "14                 None  NEW: Austin police shot and killed entrepreneu...   \n",
       "15                 None  #Nayeon and @RolaWorLD in Tokyo for #LVxYayoiK...   \n",
       "16                 None  A new series adaption of ‘THE DARK TOWER’ is i...   \n",
       "17                 None  Prince William had asked broadcasters not to r...   \n",
       "18                 None  Well I am watching that new @netflix doc #Harr...   \n",
       "19                 None  Image of Harry and Meghan being “stalked by pa...   \n",
       "20                 None  New: Elon Musk just said Apple has “fully resu...   \n",
       "21                 None  Apple silicon unlocks a new level of performan...   \n",
       "\n",
       "                                         cleaned_text  comment_number  \\\n",
       "0      mysta pregnant whole month came back new wave               47   \n",
       "1            final new music #rm mind us fan #indigo              107   \n",
       "2   get first look new charact season  alic border...             491   \n",
       "3   new city new identity new crew let dig joe new...             244   \n",
       "4      new city new name joe here first look season               167   \n",
       "5   three day herschel walker sent back texa like ...            1860   \n",
       "6                       babe new kit joe pic dropped               45   \n",
       "7   havent heard there new oscarnomin palestinian ...              64   \n",
       "8   imag harri meghan stalk paparazzi new netflix ...            1045   \n",
       "9                            new movi netflix thread              355   \n",
       "10  bullet train stream netflix see new movi got a...             444   \n",
       "11  like that a open theme lookism b new favorit j...             200   \n",
       "12                 new view across #spidervers come                58   \n",
       "13                                   like send nudes              236   \n",
       "14  new austin polic shot kill entrepreneur rajan ...             807   \n",
       "15  #nayeon tokyo #lvxyayoikusama celebr gather di...             195   \n",
       "16  new seri adapt dark tower work amazon mike fla...             265   \n",
       "17  princ william ask broadcast replay footag moth...            1202   \n",
       "18  well watch new doc #harryandmeghannetflix actu...            3509   \n",
       "19  imag harri meghan stalk paparazzi new netflix ...             896   \n",
       "20  new elon musk said appl fulli resum advertis t...             887   \n",
       "21  appl silicon unlock new level perform users so...            2421   \n",
       "\n",
       "    retweet_number  like_number sentiment_positive sentiment_neutral  \\\n",
       "0             1142        10532             0.1333            0.6733   \n",
       "1            14473        32774             0.9563            0.0424   \n",
       "2             9134        42924             0.2022            0.7935   \n",
       "3             2428        27881             0.3629            0.6290   \n",
       "4              841        10004             0.2076            0.7837   \n",
       "5             1581        14895             0.6503            0.3411   \n",
       "6             1229        13597             0.0836            0.9018   \n",
       "7             8477        29592             0.0300            0.4246   \n",
       "8             2175        12302             0.0310            0.9267   \n",
       "9            10944        74042             0.2202            0.7759   \n",
       "10            2948        48530             0.4883            0.5090   \n",
       "11            6619        15185             0.9318            0.0670   \n",
       "12            2071        18359             0.2724            0.7236   \n",
       "13            1187        12604             0.0746            0.8996   \n",
       "14            4115        11571             0.0145            0.6001   \n",
       "15            5528        28074             0.5037            0.4939   \n",
       "16             960        10765             0.1862            0.8104   \n",
       "17            1493        15548             0.0206            0.8223   \n",
       "18             920        14273             0.9573            0.0319   \n",
       "19            2559        19064             0.0723            0.8746   \n",
       "20            2025        35805             0.7209            0.2764   \n",
       "21            4427        58631             0.9685            0.0300   \n",
       "\n",
       "   sentiment_negative sentiment_uncertain sentiment_compound  \\\n",
       "0              0.1934              0.3267            -0.0209   \n",
       "1              0.0013              0.9576             0.6774   \n",
       "2              0.0043              0.2065             0.0609   \n",
       "3              0.0081              0.3710             0.1291   \n",
       "4              0.0087              0.2163             0.0618   \n",
       "5              0.0085              0.6588             0.3181   \n",
       "6              0.0146              0.0982             0.0190   \n",
       "7              0.5454              0.5754            -0.2329   \n",
       "8              0.0422              0.0732            -0.0030   \n",
       "9              0.0039              0.2241             0.0677   \n",
       "10             0.0026              0.4909             0.2004   \n",
       "11             0.0012              0.9330             0.6395   \n",
       "12             0.0039              0.2763             0.0886   \n",
       "13             0.0258              0.1004             0.0135   \n",
       "14             0.3855              0.4000            -0.1391   \n",
       "15             0.0024              0.5061             0.2102   \n",
       "16             0.0034              0.1896             0.0553   \n",
       "17             0.1571              0.1777            -0.0408   \n",
       "18             0.0108              0.9681             0.6806   \n",
       "19             0.0531              0.1254             0.0054   \n",
       "20             0.0026              0.7235             0.3832   \n",
       "21             0.0016              0.9701             0.6970   \n",
       "\n",
       "             companies  \n",
       "0   stock.Company.None  \n",
       "1   stock.Company.None  \n",
       "2   stock.Company.None  \n",
       "3   stock.Company.None  \n",
       "4   stock.Company.None  \n",
       "5   stock.Company.None  \n",
       "6   stock.Company.None  \n",
       "7   stock.Company.None  \n",
       "8   stock.Company.None  \n",
       "9   stock.Company.None  \n",
       "10  stock.Company.None  \n",
       "11  stock.Company.None  \n",
       "12  stock.Company.None  \n",
       "13  stock.Company.None  \n",
       "14  stock.Company.None  \n",
       "15  stock.Company.None  \n",
       "16  stock.Company.None  \n",
       "17  stock.Company.None  \n",
       "18  stock.Company.None  \n",
       "19  stock.Company.None  \n",
       "20  stock.Company.None  \n",
       "21  stock.Company.None  "
      ]
     },
     "execution_count": 60,
     "metadata": {},
     "output_type": "execute_result"
    }
   ],
   "source": [
    "df\n"
   ]
  },
  {
   "cell_type": "code",
   "execution_count": 8,
   "id": "ae9068e1",
   "metadata": {},
   "outputs": [],
   "source": [
    "import pandas as pd"
   ]
  },
  {
   "cell_type": "code",
   "execution_count": 65,
   "id": "a9763a7b",
   "metadata": {},
   "outputs": [],
   "source": [
    "import plotly.express as px"
   ]
  },
  {
   "cell_type": "code",
   "execution_count": null,
   "id": "7cd7337f",
   "metadata": {},
   "outputs": [],
   "source": [
    "df[]"
   ]
  },
  {
   "cell_type": "code",
   "execution_count": 27,
   "id": "9555ea6f",
   "metadata": {},
   "outputs": [
    {
     "data": {
      "application/vnd.plotly.v1+json": {
       "config": {
        "plotlyServerURL": "https://plot.ly"
       },
       "data": [
        {
         "domain": {
          "x": [
           0,
           1
          ],
          "y": [
           0,
           1
          ]
         },
         "hovertemplate": "user=%{label}<br>like_number=%{value}<extra></extra>",
         "labels": [
          1360496684741107700,
          14740219,
          16573941,
          900441761859948500,
          16573941,
          27493883,
          197208081,
          1531090934926291000,
          17469289,
          720033149288321000,
          780460754910732300,
          1452957328517439500,
          241227689,
          1499090498090328000,
          246939630,
          44084633,
          780460754910732300,
          599325334,
          97411152,
          25235151,
          359425864,
          1636590253
         ],
         "legendgroup": "",
         "name": "",
         "showlegend": true,
         "type": "pie",
         "values": [
          10532,
          32774,
          42924,
          27881,
          10004,
          14895,
          13597,
          29592,
          12302,
          74042,
          48530,
          15185,
          18359,
          12604,
          11571,
          28074,
          10765,
          15548,
          14273,
          19064,
          35805,
          58631
         ]
        }
       ],
       "layout": {
        "legend": {
         "tracegroupgap": 0
        },
        "margin": {
         "t": 60
        },
        "template": {
         "data": {
          "bar": [
           {
            "error_x": {
             "color": "#2a3f5f"
            },
            "error_y": {
             "color": "#2a3f5f"
            },
            "marker": {
             "line": {
              "color": "#E5ECF6",
              "width": 0.5
             },
             "pattern": {
              "fillmode": "overlay",
              "size": 10,
              "solidity": 0.2
             }
            },
            "type": "bar"
           }
          ],
          "barpolar": [
           {
            "marker": {
             "line": {
              "color": "#E5ECF6",
              "width": 0.5
             },
             "pattern": {
              "fillmode": "overlay",
              "size": 10,
              "solidity": 0.2
             }
            },
            "type": "barpolar"
           }
          ],
          "carpet": [
           {
            "aaxis": {
             "endlinecolor": "#2a3f5f",
             "gridcolor": "white",
             "linecolor": "white",
             "minorgridcolor": "white",
             "startlinecolor": "#2a3f5f"
            },
            "baxis": {
             "endlinecolor": "#2a3f5f",
             "gridcolor": "white",
             "linecolor": "white",
             "minorgridcolor": "white",
             "startlinecolor": "#2a3f5f"
            },
            "type": "carpet"
           }
          ],
          "choropleth": [
           {
            "colorbar": {
             "outlinewidth": 0,
             "ticks": ""
            },
            "type": "choropleth"
           }
          ],
          "contour": [
           {
            "colorbar": {
             "outlinewidth": 0,
             "ticks": ""
            },
            "colorscale": [
             [
              0,
              "#0d0887"
             ],
             [
              0.1111111111111111,
              "#46039f"
             ],
             [
              0.2222222222222222,
              "#7201a8"
             ],
             [
              0.3333333333333333,
              "#9c179e"
             ],
             [
              0.4444444444444444,
              "#bd3786"
             ],
             [
              0.5555555555555556,
              "#d8576b"
             ],
             [
              0.6666666666666666,
              "#ed7953"
             ],
             [
              0.7777777777777778,
              "#fb9f3a"
             ],
             [
              0.8888888888888888,
              "#fdca26"
             ],
             [
              1,
              "#f0f921"
             ]
            ],
            "type": "contour"
           }
          ],
          "contourcarpet": [
           {
            "colorbar": {
             "outlinewidth": 0,
             "ticks": ""
            },
            "type": "contourcarpet"
           }
          ],
          "heatmap": [
           {
            "colorbar": {
             "outlinewidth": 0,
             "ticks": ""
            },
            "colorscale": [
             [
              0,
              "#0d0887"
             ],
             [
              0.1111111111111111,
              "#46039f"
             ],
             [
              0.2222222222222222,
              "#7201a8"
             ],
             [
              0.3333333333333333,
              "#9c179e"
             ],
             [
              0.4444444444444444,
              "#bd3786"
             ],
             [
              0.5555555555555556,
              "#d8576b"
             ],
             [
              0.6666666666666666,
              "#ed7953"
             ],
             [
              0.7777777777777778,
              "#fb9f3a"
             ],
             [
              0.8888888888888888,
              "#fdca26"
             ],
             [
              1,
              "#f0f921"
             ]
            ],
            "type": "heatmap"
           }
          ],
          "heatmapgl": [
           {
            "colorbar": {
             "outlinewidth": 0,
             "ticks": ""
            },
            "colorscale": [
             [
              0,
              "#0d0887"
             ],
             [
              0.1111111111111111,
              "#46039f"
             ],
             [
              0.2222222222222222,
              "#7201a8"
             ],
             [
              0.3333333333333333,
              "#9c179e"
             ],
             [
              0.4444444444444444,
              "#bd3786"
             ],
             [
              0.5555555555555556,
              "#d8576b"
             ],
             [
              0.6666666666666666,
              "#ed7953"
             ],
             [
              0.7777777777777778,
              "#fb9f3a"
             ],
             [
              0.8888888888888888,
              "#fdca26"
             ],
             [
              1,
              "#f0f921"
             ]
            ],
            "type": "heatmapgl"
           }
          ],
          "histogram": [
           {
            "marker": {
             "pattern": {
              "fillmode": "overlay",
              "size": 10,
              "solidity": 0.2
             }
            },
            "type": "histogram"
           }
          ],
          "histogram2d": [
           {
            "colorbar": {
             "outlinewidth": 0,
             "ticks": ""
            },
            "colorscale": [
             [
              0,
              "#0d0887"
             ],
             [
              0.1111111111111111,
              "#46039f"
             ],
             [
              0.2222222222222222,
              "#7201a8"
             ],
             [
              0.3333333333333333,
              "#9c179e"
             ],
             [
              0.4444444444444444,
              "#bd3786"
             ],
             [
              0.5555555555555556,
              "#d8576b"
             ],
             [
              0.6666666666666666,
              "#ed7953"
             ],
             [
              0.7777777777777778,
              "#fb9f3a"
             ],
             [
              0.8888888888888888,
              "#fdca26"
             ],
             [
              1,
              "#f0f921"
             ]
            ],
            "type": "histogram2d"
           }
          ],
          "histogram2dcontour": [
           {
            "colorbar": {
             "outlinewidth": 0,
             "ticks": ""
            },
            "colorscale": [
             [
              0,
              "#0d0887"
             ],
             [
              0.1111111111111111,
              "#46039f"
             ],
             [
              0.2222222222222222,
              "#7201a8"
             ],
             [
              0.3333333333333333,
              "#9c179e"
             ],
             [
              0.4444444444444444,
              "#bd3786"
             ],
             [
              0.5555555555555556,
              "#d8576b"
             ],
             [
              0.6666666666666666,
              "#ed7953"
             ],
             [
              0.7777777777777778,
              "#fb9f3a"
             ],
             [
              0.8888888888888888,
              "#fdca26"
             ],
             [
              1,
              "#f0f921"
             ]
            ],
            "type": "histogram2dcontour"
           }
          ],
          "mesh3d": [
           {
            "colorbar": {
             "outlinewidth": 0,
             "ticks": ""
            },
            "type": "mesh3d"
           }
          ],
          "parcoords": [
           {
            "line": {
             "colorbar": {
              "outlinewidth": 0,
              "ticks": ""
             }
            },
            "type": "parcoords"
           }
          ],
          "pie": [
           {
            "automargin": true,
            "type": "pie"
           }
          ],
          "scatter": [
           {
            "fillpattern": {
             "fillmode": "overlay",
             "size": 10,
             "solidity": 0.2
            },
            "type": "scatter"
           }
          ],
          "scatter3d": [
           {
            "line": {
             "colorbar": {
              "outlinewidth": 0,
              "ticks": ""
             }
            },
            "marker": {
             "colorbar": {
              "outlinewidth": 0,
              "ticks": ""
             }
            },
            "type": "scatter3d"
           }
          ],
          "scattercarpet": [
           {
            "marker": {
             "colorbar": {
              "outlinewidth": 0,
              "ticks": ""
             }
            },
            "type": "scattercarpet"
           }
          ],
          "scattergeo": [
           {
            "marker": {
             "colorbar": {
              "outlinewidth": 0,
              "ticks": ""
             }
            },
            "type": "scattergeo"
           }
          ],
          "scattergl": [
           {
            "marker": {
             "colorbar": {
              "outlinewidth": 0,
              "ticks": ""
             }
            },
            "type": "scattergl"
           }
          ],
          "scattermapbox": [
           {
            "marker": {
             "colorbar": {
              "outlinewidth": 0,
              "ticks": ""
             }
            },
            "type": "scattermapbox"
           }
          ],
          "scatterpolar": [
           {
            "marker": {
             "colorbar": {
              "outlinewidth": 0,
              "ticks": ""
             }
            },
            "type": "scatterpolar"
           }
          ],
          "scatterpolargl": [
           {
            "marker": {
             "colorbar": {
              "outlinewidth": 0,
              "ticks": ""
             }
            },
            "type": "scatterpolargl"
           }
          ],
          "scatterternary": [
           {
            "marker": {
             "colorbar": {
              "outlinewidth": 0,
              "ticks": ""
             }
            },
            "type": "scatterternary"
           }
          ],
          "surface": [
           {
            "colorbar": {
             "outlinewidth": 0,
             "ticks": ""
            },
            "colorscale": [
             [
              0,
              "#0d0887"
             ],
             [
              0.1111111111111111,
              "#46039f"
             ],
             [
              0.2222222222222222,
              "#7201a8"
             ],
             [
              0.3333333333333333,
              "#9c179e"
             ],
             [
              0.4444444444444444,
              "#bd3786"
             ],
             [
              0.5555555555555556,
              "#d8576b"
             ],
             [
              0.6666666666666666,
              "#ed7953"
             ],
             [
              0.7777777777777778,
              "#fb9f3a"
             ],
             [
              0.8888888888888888,
              "#fdca26"
             ],
             [
              1,
              "#f0f921"
             ]
            ],
            "type": "surface"
           }
          ],
          "table": [
           {
            "cells": {
             "fill": {
              "color": "#EBF0F8"
             },
             "line": {
              "color": "white"
             }
            },
            "header": {
             "fill": {
              "color": "#C8D4E3"
             },
             "line": {
              "color": "white"
             }
            },
            "type": "table"
           }
          ]
         },
         "layout": {
          "annotationdefaults": {
           "arrowcolor": "#2a3f5f",
           "arrowhead": 0,
           "arrowwidth": 1
          },
          "autotypenumbers": "strict",
          "coloraxis": {
           "colorbar": {
            "outlinewidth": 0,
            "ticks": ""
           }
          },
          "colorscale": {
           "diverging": [
            [
             0,
             "#8e0152"
            ],
            [
             0.1,
             "#c51b7d"
            ],
            [
             0.2,
             "#de77ae"
            ],
            [
             0.3,
             "#f1b6da"
            ],
            [
             0.4,
             "#fde0ef"
            ],
            [
             0.5,
             "#f7f7f7"
            ],
            [
             0.6,
             "#e6f5d0"
            ],
            [
             0.7,
             "#b8e186"
            ],
            [
             0.8,
             "#7fbc41"
            ],
            [
             0.9,
             "#4d9221"
            ],
            [
             1,
             "#276419"
            ]
           ],
           "sequential": [
            [
             0,
             "#0d0887"
            ],
            [
             0.1111111111111111,
             "#46039f"
            ],
            [
             0.2222222222222222,
             "#7201a8"
            ],
            [
             0.3333333333333333,
             "#9c179e"
            ],
            [
             0.4444444444444444,
             "#bd3786"
            ],
            [
             0.5555555555555556,
             "#d8576b"
            ],
            [
             0.6666666666666666,
             "#ed7953"
            ],
            [
             0.7777777777777778,
             "#fb9f3a"
            ],
            [
             0.8888888888888888,
             "#fdca26"
            ],
            [
             1,
             "#f0f921"
            ]
           ],
           "sequentialminus": [
            [
             0,
             "#0d0887"
            ],
            [
             0.1111111111111111,
             "#46039f"
            ],
            [
             0.2222222222222222,
             "#7201a8"
            ],
            [
             0.3333333333333333,
             "#9c179e"
            ],
            [
             0.4444444444444444,
             "#bd3786"
            ],
            [
             0.5555555555555556,
             "#d8576b"
            ],
            [
             0.6666666666666666,
             "#ed7953"
            ],
            [
             0.7777777777777778,
             "#fb9f3a"
            ],
            [
             0.8888888888888888,
             "#fdca26"
            ],
            [
             1,
             "#f0f921"
            ]
           ]
          },
          "colorway": [
           "#636efa",
           "#EF553B",
           "#00cc96",
           "#ab63fa",
           "#FFA15A",
           "#19d3f3",
           "#FF6692",
           "#B6E880",
           "#FF97FF",
           "#FECB52"
          ],
          "font": {
           "color": "#2a3f5f"
          },
          "geo": {
           "bgcolor": "white",
           "lakecolor": "white",
           "landcolor": "#E5ECF6",
           "showlakes": true,
           "showland": true,
           "subunitcolor": "white"
          },
          "hoverlabel": {
           "align": "left"
          },
          "hovermode": "closest",
          "mapbox": {
           "style": "light"
          },
          "paper_bgcolor": "white",
          "plot_bgcolor": "#E5ECF6",
          "polar": {
           "angularaxis": {
            "gridcolor": "white",
            "linecolor": "white",
            "ticks": ""
           },
           "bgcolor": "#E5ECF6",
           "radialaxis": {
            "gridcolor": "white",
            "linecolor": "white",
            "ticks": ""
           }
          },
          "scene": {
           "xaxis": {
            "backgroundcolor": "#E5ECF6",
            "gridcolor": "white",
            "gridwidth": 2,
            "linecolor": "white",
            "showbackground": true,
            "ticks": "",
            "zerolinecolor": "white"
           },
           "yaxis": {
            "backgroundcolor": "#E5ECF6",
            "gridcolor": "white",
            "gridwidth": 2,
            "linecolor": "white",
            "showbackground": true,
            "ticks": "",
            "zerolinecolor": "white"
           },
           "zaxis": {
            "backgroundcolor": "#E5ECF6",
            "gridcolor": "white",
            "gridwidth": 2,
            "linecolor": "white",
            "showbackground": true,
            "ticks": "",
            "zerolinecolor": "white"
           }
          },
          "shapedefaults": {
           "line": {
            "color": "#2a3f5f"
           }
          },
          "ternary": {
           "aaxis": {
            "gridcolor": "white",
            "linecolor": "white",
            "ticks": ""
           },
           "baxis": {
            "gridcolor": "white",
            "linecolor": "white",
            "ticks": ""
           },
           "bgcolor": "#E5ECF6",
           "caxis": {
            "gridcolor": "white",
            "linecolor": "white",
            "ticks": ""
           }
          },
          "title": {
           "x": 0.05
          },
          "xaxis": {
           "automargin": true,
           "gridcolor": "white",
           "linecolor": "white",
           "ticks": "",
           "title": {
            "standoff": 15
           },
           "zerolinecolor": "white",
           "zerolinewidth": 2
          },
          "yaxis": {
           "automargin": true,
           "gridcolor": "white",
           "linecolor": "white",
           "ticks": "",
           "title": {
            "standoff": 15
           },
           "zerolinecolor": "white",
           "zerolinewidth": 2
          }
         }
        }
       }
      },
      "text/html": [
       "<div>                            <div id=\"bcfb2d67-2234-4d1e-8c3a-16b47e9a5a5d\" class=\"plotly-graph-div\" style=\"height:525px; width:100%;\"></div>            <script type=\"text/javascript\">                require([\"plotly\"], function(Plotly) {                    window.PLOTLYENV=window.PLOTLYENV || {};                                    if (document.getElementById(\"bcfb2d67-2234-4d1e-8c3a-16b47e9a5a5d\")) {                    Plotly.newPlot(                        \"bcfb2d67-2234-4d1e-8c3a-16b47e9a5a5d\",                        [{\"domain\":{\"x\":[0.0,1.0],\"y\":[0.0,1.0]},\"hovertemplate\":\"user=%{label}<br>like_number=%{value}<extra></extra>\",\"labels\":[1360496684741107713,14740219,16573941,900441761859948545,16573941,27493883,197208081,1531090934926290944,17469289,720033149288321024,780460754910732288,1452957328517439492,241227689,1499090498090328071,246939630,44084633,780460754910732288,599325334,97411152,25235151,359425864,1636590253],\"legendgroup\":\"\",\"name\":\"\",\"showlegend\":true,\"values\":[10532,32774,42924,27881,10004,14895,13597,29592,12302,74042,48530,15185,18359,12604,11571,28074,10765,15548,14273,19064,35805,58631],\"type\":\"pie\"}],                        {\"template\":{\"data\":{\"histogram2dcontour\":[{\"type\":\"histogram2dcontour\",\"colorbar\":{\"outlinewidth\":0,\"ticks\":\"\"},\"colorscale\":[[0.0,\"#0d0887\"],[0.1111111111111111,\"#46039f\"],[0.2222222222222222,\"#7201a8\"],[0.3333333333333333,\"#9c179e\"],[0.4444444444444444,\"#bd3786\"],[0.5555555555555556,\"#d8576b\"],[0.6666666666666666,\"#ed7953\"],[0.7777777777777778,\"#fb9f3a\"],[0.8888888888888888,\"#fdca26\"],[1.0,\"#f0f921\"]]}],\"choropleth\":[{\"type\":\"choropleth\",\"colorbar\":{\"outlinewidth\":0,\"ticks\":\"\"}}],\"histogram2d\":[{\"type\":\"histogram2d\",\"colorbar\":{\"outlinewidth\":0,\"ticks\":\"\"},\"colorscale\":[[0.0,\"#0d0887\"],[0.1111111111111111,\"#46039f\"],[0.2222222222222222,\"#7201a8\"],[0.3333333333333333,\"#9c179e\"],[0.4444444444444444,\"#bd3786\"],[0.5555555555555556,\"#d8576b\"],[0.6666666666666666,\"#ed7953\"],[0.7777777777777778,\"#fb9f3a\"],[0.8888888888888888,\"#fdca26\"],[1.0,\"#f0f921\"]]}],\"heatmap\":[{\"type\":\"heatmap\",\"colorbar\":{\"outlinewidth\":0,\"ticks\":\"\"},\"colorscale\":[[0.0,\"#0d0887\"],[0.1111111111111111,\"#46039f\"],[0.2222222222222222,\"#7201a8\"],[0.3333333333333333,\"#9c179e\"],[0.4444444444444444,\"#bd3786\"],[0.5555555555555556,\"#d8576b\"],[0.6666666666666666,\"#ed7953\"],[0.7777777777777778,\"#fb9f3a\"],[0.8888888888888888,\"#fdca26\"],[1.0,\"#f0f921\"]]}],\"heatmapgl\":[{\"type\":\"heatmapgl\",\"colorbar\":{\"outlinewidth\":0,\"ticks\":\"\"},\"colorscale\":[[0.0,\"#0d0887\"],[0.1111111111111111,\"#46039f\"],[0.2222222222222222,\"#7201a8\"],[0.3333333333333333,\"#9c179e\"],[0.4444444444444444,\"#bd3786\"],[0.5555555555555556,\"#d8576b\"],[0.6666666666666666,\"#ed7953\"],[0.7777777777777778,\"#fb9f3a\"],[0.8888888888888888,\"#fdca26\"],[1.0,\"#f0f921\"]]}],\"contourcarpet\":[{\"type\":\"contourcarpet\",\"colorbar\":{\"outlinewidth\":0,\"ticks\":\"\"}}],\"contour\":[{\"type\":\"contour\",\"colorbar\":{\"outlinewidth\":0,\"ticks\":\"\"},\"colorscale\":[[0.0,\"#0d0887\"],[0.1111111111111111,\"#46039f\"],[0.2222222222222222,\"#7201a8\"],[0.3333333333333333,\"#9c179e\"],[0.4444444444444444,\"#bd3786\"],[0.5555555555555556,\"#d8576b\"],[0.6666666666666666,\"#ed7953\"],[0.7777777777777778,\"#fb9f3a\"],[0.8888888888888888,\"#fdca26\"],[1.0,\"#f0f921\"]]}],\"surface\":[{\"type\":\"surface\",\"colorbar\":{\"outlinewidth\":0,\"ticks\":\"\"},\"colorscale\":[[0.0,\"#0d0887\"],[0.1111111111111111,\"#46039f\"],[0.2222222222222222,\"#7201a8\"],[0.3333333333333333,\"#9c179e\"],[0.4444444444444444,\"#bd3786\"],[0.5555555555555556,\"#d8576b\"],[0.6666666666666666,\"#ed7953\"],[0.7777777777777778,\"#fb9f3a\"],[0.8888888888888888,\"#fdca26\"],[1.0,\"#f0f921\"]]}],\"mesh3d\":[{\"type\":\"mesh3d\",\"colorbar\":{\"outlinewidth\":0,\"ticks\":\"\"}}],\"scatter\":[{\"fillpattern\":{\"fillmode\":\"overlay\",\"size\":10,\"solidity\":0.2},\"type\":\"scatter\"}],\"parcoords\":[{\"type\":\"parcoords\",\"line\":{\"colorbar\":{\"outlinewidth\":0,\"ticks\":\"\"}}}],\"scatterpolargl\":[{\"type\":\"scatterpolargl\",\"marker\":{\"colorbar\":{\"outlinewidth\":0,\"ticks\":\"\"}}}],\"bar\":[{\"error_x\":{\"color\":\"#2a3f5f\"},\"error_y\":{\"color\":\"#2a3f5f\"},\"marker\":{\"line\":{\"color\":\"#E5ECF6\",\"width\":0.5},\"pattern\":{\"fillmode\":\"overlay\",\"size\":10,\"solidity\":0.2}},\"type\":\"bar\"}],\"scattergeo\":[{\"type\":\"scattergeo\",\"marker\":{\"colorbar\":{\"outlinewidth\":0,\"ticks\":\"\"}}}],\"scatterpolar\":[{\"type\":\"scatterpolar\",\"marker\":{\"colorbar\":{\"outlinewidth\":0,\"ticks\":\"\"}}}],\"histogram\":[{\"marker\":{\"pattern\":{\"fillmode\":\"overlay\",\"size\":10,\"solidity\":0.2}},\"type\":\"histogram\"}],\"scattergl\":[{\"type\":\"scattergl\",\"marker\":{\"colorbar\":{\"outlinewidth\":0,\"ticks\":\"\"}}}],\"scatter3d\":[{\"type\":\"scatter3d\",\"line\":{\"colorbar\":{\"outlinewidth\":0,\"ticks\":\"\"}},\"marker\":{\"colorbar\":{\"outlinewidth\":0,\"ticks\":\"\"}}}],\"scattermapbox\":[{\"type\":\"scattermapbox\",\"marker\":{\"colorbar\":{\"outlinewidth\":0,\"ticks\":\"\"}}}],\"scatterternary\":[{\"type\":\"scatterternary\",\"marker\":{\"colorbar\":{\"outlinewidth\":0,\"ticks\":\"\"}}}],\"scattercarpet\":[{\"type\":\"scattercarpet\",\"marker\":{\"colorbar\":{\"outlinewidth\":0,\"ticks\":\"\"}}}],\"carpet\":[{\"aaxis\":{\"endlinecolor\":\"#2a3f5f\",\"gridcolor\":\"white\",\"linecolor\":\"white\",\"minorgridcolor\":\"white\",\"startlinecolor\":\"#2a3f5f\"},\"baxis\":{\"endlinecolor\":\"#2a3f5f\",\"gridcolor\":\"white\",\"linecolor\":\"white\",\"minorgridcolor\":\"white\",\"startlinecolor\":\"#2a3f5f\"},\"type\":\"carpet\"}],\"table\":[{\"cells\":{\"fill\":{\"color\":\"#EBF0F8\"},\"line\":{\"color\":\"white\"}},\"header\":{\"fill\":{\"color\":\"#C8D4E3\"},\"line\":{\"color\":\"white\"}},\"type\":\"table\"}],\"barpolar\":[{\"marker\":{\"line\":{\"color\":\"#E5ECF6\",\"width\":0.5},\"pattern\":{\"fillmode\":\"overlay\",\"size\":10,\"solidity\":0.2}},\"type\":\"barpolar\"}],\"pie\":[{\"automargin\":true,\"type\":\"pie\"}]},\"layout\":{\"autotypenumbers\":\"strict\",\"colorway\":[\"#636efa\",\"#EF553B\",\"#00cc96\",\"#ab63fa\",\"#FFA15A\",\"#19d3f3\",\"#FF6692\",\"#B6E880\",\"#FF97FF\",\"#FECB52\"],\"font\":{\"color\":\"#2a3f5f\"},\"hovermode\":\"closest\",\"hoverlabel\":{\"align\":\"left\"},\"paper_bgcolor\":\"white\",\"plot_bgcolor\":\"#E5ECF6\",\"polar\":{\"bgcolor\":\"#E5ECF6\",\"angularaxis\":{\"gridcolor\":\"white\",\"linecolor\":\"white\",\"ticks\":\"\"},\"radialaxis\":{\"gridcolor\":\"white\",\"linecolor\":\"white\",\"ticks\":\"\"}},\"ternary\":{\"bgcolor\":\"#E5ECF6\",\"aaxis\":{\"gridcolor\":\"white\",\"linecolor\":\"white\",\"ticks\":\"\"},\"baxis\":{\"gridcolor\":\"white\",\"linecolor\":\"white\",\"ticks\":\"\"},\"caxis\":{\"gridcolor\":\"white\",\"linecolor\":\"white\",\"ticks\":\"\"}},\"coloraxis\":{\"colorbar\":{\"outlinewidth\":0,\"ticks\":\"\"}},\"colorscale\":{\"sequential\":[[0.0,\"#0d0887\"],[0.1111111111111111,\"#46039f\"],[0.2222222222222222,\"#7201a8\"],[0.3333333333333333,\"#9c179e\"],[0.4444444444444444,\"#bd3786\"],[0.5555555555555556,\"#d8576b\"],[0.6666666666666666,\"#ed7953\"],[0.7777777777777778,\"#fb9f3a\"],[0.8888888888888888,\"#fdca26\"],[1.0,\"#f0f921\"]],\"sequentialminus\":[[0.0,\"#0d0887\"],[0.1111111111111111,\"#46039f\"],[0.2222222222222222,\"#7201a8\"],[0.3333333333333333,\"#9c179e\"],[0.4444444444444444,\"#bd3786\"],[0.5555555555555556,\"#d8576b\"],[0.6666666666666666,\"#ed7953\"],[0.7777777777777778,\"#fb9f3a\"],[0.8888888888888888,\"#fdca26\"],[1.0,\"#f0f921\"]],\"diverging\":[[0,\"#8e0152\"],[0.1,\"#c51b7d\"],[0.2,\"#de77ae\"],[0.3,\"#f1b6da\"],[0.4,\"#fde0ef\"],[0.5,\"#f7f7f7\"],[0.6,\"#e6f5d0\"],[0.7,\"#b8e186\"],[0.8,\"#7fbc41\"],[0.9,\"#4d9221\"],[1,\"#276419\"]]},\"xaxis\":{\"gridcolor\":\"white\",\"linecolor\":\"white\",\"ticks\":\"\",\"title\":{\"standoff\":15},\"zerolinecolor\":\"white\",\"automargin\":true,\"zerolinewidth\":2},\"yaxis\":{\"gridcolor\":\"white\",\"linecolor\":\"white\",\"ticks\":\"\",\"title\":{\"standoff\":15},\"zerolinecolor\":\"white\",\"automargin\":true,\"zerolinewidth\":2},\"scene\":{\"xaxis\":{\"backgroundcolor\":\"#E5ECF6\",\"gridcolor\":\"white\",\"linecolor\":\"white\",\"showbackground\":true,\"ticks\":\"\",\"zerolinecolor\":\"white\",\"gridwidth\":2},\"yaxis\":{\"backgroundcolor\":\"#E5ECF6\",\"gridcolor\":\"white\",\"linecolor\":\"white\",\"showbackground\":true,\"ticks\":\"\",\"zerolinecolor\":\"white\",\"gridwidth\":2},\"zaxis\":{\"backgroundcolor\":\"#E5ECF6\",\"gridcolor\":\"white\",\"linecolor\":\"white\",\"showbackground\":true,\"ticks\":\"\",\"zerolinecolor\":\"white\",\"gridwidth\":2}},\"shapedefaults\":{\"line\":{\"color\":\"#2a3f5f\"}},\"annotationdefaults\":{\"arrowcolor\":\"#2a3f5f\",\"arrowhead\":0,\"arrowwidth\":1},\"geo\":{\"bgcolor\":\"white\",\"landcolor\":\"#E5ECF6\",\"subunitcolor\":\"white\",\"showland\":true,\"showlakes\":true,\"lakecolor\":\"white\"},\"title\":{\"x\":0.05},\"mapbox\":{\"style\":\"light\"}}},\"legend\":{\"tracegroupgap\":0},\"margin\":{\"t\":60}},                        {\"responsive\": true}                    ).then(function(){\n",
       "                            \n",
       "var gd = document.getElementById('bcfb2d67-2234-4d1e-8c3a-16b47e9a5a5d');\n",
       "var x = new MutationObserver(function (mutations, observer) {{\n",
       "        var display = window.getComputedStyle(gd).display;\n",
       "        if (!display || display === 'none') {{\n",
       "            console.log([gd, 'removed!']);\n",
       "            Plotly.purge(gd);\n",
       "            observer.disconnect();\n",
       "        }}\n",
       "}});\n",
       "\n",
       "// Listen for the removal of the full notebook cells\n",
       "var notebookContainer = gd.closest('#notebook-container');\n",
       "if (notebookContainer) {{\n",
       "    x.observe(notebookContainer, {childList: true});\n",
       "}}\n",
       "\n",
       "// Listen for the clearing of the current output cell\n",
       "var outputEl = gd.closest('.output');\n",
       "if (outputEl) {{\n",
       "    x.observe(outputEl, {childList: true});\n",
       "}}\n",
       "\n",
       "                        })                };                });            </script>        </div>"
      ]
     },
     "metadata": {},
     "output_type": "display_data"
    }
   ],
   "source": [
    "fig = px.pie(df, values=\"like_number\", names=\"user\")\n",
    "fig.show()"
   ]
  },
  {
   "cell_type": "code",
   "execution_count": null,
   "id": "58a95b40",
   "metadata": {},
   "outputs": [],
   "source": []
  },
  {
   "cell_type": "code",
   "execution_count": 3,
   "id": "8026a2ba",
   "metadata": {},
   "outputs": [],
   "source": [
    "from stock.models import Company"
   ]
  },
  {
   "cell_type": "code",
   "execution_count": 9,
   "id": "fb9663d5",
   "metadata": {},
   "outputs": [],
   "source": [
    "companies = Company.objects.all()"
   ]
  },
  {
   "cell_type": "code",
   "execution_count": 17,
   "id": "d3d80dc8",
   "metadata": {},
   "outputs": [],
   "source": [
    "company_symbol=\"AAPL\""
   ]
  },
  {
   "cell_type": "code",
   "execution_count": 31,
   "id": "9fd28334",
   "metadata": {},
   "outputs": [
    {
     "data": {
      "text/plain": [
       "'New #AppleWatch SE with OS version 9.1 cannot run default apps, like Weather, Calculator.\\nIt says: to use this app on your apple watch the iPhone app for weather needs to be installed on (null).\\nRestarting the watch helped.\\nStill, what the hell, @Apple? https://t.co/mfmDcBSjH8'"
      ]
     },
     "execution_count": 31,
     "metadata": {},
     "output_type": "execute_result"
    }
   ],
   "source": [
    "companies.filter(symbol=company_symbol).first().oldest_tweet.text"
   ]
  },
  {
   "cell_type": "code",
   "execution_count": null,
   "id": "cdd53c0d",
   "metadata": {},
   "outputs": [],
   "source": [
    "companies.objects.filter(datetime_published=datetime(2008, 03, 27))"
   ]
  }
 ],
 "metadata": {
  "kernelspec": {
   "display_name": "Python 3 (ipykernel)",
   "language": "python",
   "name": "python3"
  },
  "language_info": {
   "codemirror_mode": {
    "name": "ipython",
    "version": 3
   },
   "file_extension": ".py",
   "mimetype": "text/x-python",
   "name": "python",
   "nbconvert_exporter": "python",
   "pygments_lexer": "ipython3",
   "version": "3.10.9"
  }
 },
 "nbformat": 4,
 "nbformat_minor": 5
}
